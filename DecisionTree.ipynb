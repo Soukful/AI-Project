{
  "nbformat": 4,
  "nbformat_minor": 0,
  "metadata": {
    "colab": {
      "provenance": []
    },
    "kernelspec": {
      "name": "python3",
      "display_name": "Python 3"
    },
    "language_info": {
      "name": "python"
    }
  },
  "cells": [
    {
      "cell_type": "markdown",
      "source": [
        "Before hyper parameter tuning"
      ],
      "metadata": {
        "id": "SSVrZ3YF2kCs"
      }
    },
    {
      "cell_type": "code",
      "execution_count": 3,
      "metadata": {
        "colab": {
          "base_uri": "https://localhost:8080/",
          "height": 0
        },
        "id": "VlMrtZhU2QT_",
        "outputId": "9c7f5434-fbdc-403f-9c5f-f41966d13c6b"
      },
      "outputs": [
        {
          "output_type": "stream",
          "name": "stdout",
          "text": [
            "Accuracy: 0.76\n",
            "Precision: 0.51\n",
            "Recall: 0.51\n",
            "F1 Score: 0.51\n",
            "ROC-AUC Score: 0.68\n"
          ]
        }
      ],
      "source": [
        "import pandas as pd\n",
        "from sklearn.model_selection import train_test_split\n",
        "from sklearn.tree import DecisionTreeClassifier\n",
        "from sklearn.metrics import accuracy_score, precision_score, recall_score, f1_score, roc_auc_score\n",
        "\n",
        "# Load the dataset\n",
        "file_path = \"/content/insurance_claims_preprocessed.csv\"\n",
        "df = pd.read_csv(file_path)\n",
        "\n",
        "# Drop unnecessary columns\n",
        "df_cleaned = df.drop(columns=[\"policy_bind_date\", \"incident_date\"], errors=\"ignore\")\n",
        "\n",
        "# Convert target variable if needed\n",
        "if df_cleaned[\"fraud_reported\"].dtype == 'object':\n",
        "    df_cleaned[\"fraud_reported\"] = df_cleaned[\"fraud_reported\"].map({\"Y\": 1, \"N\": 0})\n",
        "\n",
        "# Split features and target\n",
        "X = df_cleaned.drop(columns=[\"fraud_reported\"])\n",
        "y = df_cleaned[\"fraud_reported\"]\n",
        "\n",
        "# Train-test split\n",
        "X_train, X_test, y_train, y_test = train_test_split(X, y, test_size=0.2, random_state=42, stratify=y)\n",
        "\n",
        "# Train Decision Tree model\n",
        "model = DecisionTreeClassifier(random_state=42)\n",
        "model.fit(X_train, y_train)\n",
        "\n",
        "# Predictions\n",
        "y_pred = model.predict(X_test)\n",
        "y_pred_proba = model.predict_proba(X_test)[:, 1]\n",
        "\n",
        "# Compute metrics\n",
        "accuracy = accuracy_score(y_test, y_pred)\n",
        "precision = precision_score(y_test, y_pred, zero_division=0)\n",
        "recall = recall_score(y_test, y_pred, zero_division=0)\n",
        "f1 = f1_score(y_test, y_pred, zero_division=0)\n",
        "roc_auc = roc_auc_score(y_test, y_pred_proba)\n",
        "\n",
        "# Print results\n",
        "print(f\"Accuracy: {accuracy:.2f}\")\n",
        "print(f\"Precision: {precision:.2f}\")\n",
        "print(f\"Recall: {recall:.2f}\")\n",
        "print(f\"F1 Score: {f1:.2f}\")\n",
        "print(f\"ROC-AUC Score: {roc_auc:.2f}\")\n"
      ]
    },
    {
      "cell_type": "markdown",
      "source": [
        "After hyper parameter tuning"
      ],
      "metadata": {
        "id": "dJKiqiI02tlB"
      }
    },
    {
      "cell_type": "code",
      "source": [
        "from sklearn.model_selection import GridSearchCV\n",
        "\n",
        "# Define hyperparameter grid\n",
        "param_grid = {\n",
        "    'max_depth': [5, 10, 15, None],\n",
        "    'min_samples_split': [2, 5, 10],\n",
        "    'min_samples_leaf': [1, 2, 5],\n",
        "    'criterion': ['gini', 'entropy']\n",
        "}\n",
        "\n",
        "# Initialize GridSearchCV\n",
        "grid_search = GridSearchCV(DecisionTreeClassifier(random_state=42), param_grid, cv=5, scoring='f1', n_jobs=-1)\n",
        "grid_search.fit(X_train, y_train)\n",
        "\n",
        "# Best model from grid search\n",
        "best_model = grid_search.best_estimator_\n",
        "\n",
        "# Predictions\n",
        "y_pred_best = best_model.predict(X_test)\n",
        "y_pred_proba_best = best_model.predict_proba(X_test)[:, 1]\n",
        "\n",
        "# Compute new metrics\n",
        "accuracy_best = accuracy_score(y_test, y_pred_best)\n",
        "precision_best = precision_score(y_test, y_pred_best, zero_division=0)\n",
        "recall_best = recall_score(y_test, y_pred_best, zero_division=0)\n",
        "f1_best = f1_score(y_test, y_pred_best, zero_division=0)\n",
        "roc_auc_best = roc_auc_score(y_test, y_pred_proba_best)\n",
        "\n",
        "# Print best parameters and performance metrics\n",
        "print(\"Best Parameters:\", grid_search.best_params_)\n",
        "print(f\"Accuracy: {accuracy_best:.2f}\")\n",
        "print(f\"Precision: {precision_best:.2f}\")\n",
        "print(f\"Recall: {recall_best:.2f}\")\n",
        "print(f\"F1 Score: {f1_best:.2f}\")\n",
        "print(f\"ROC-AUC Score: {roc_auc_best:.2f}\")\n"
      ],
      "metadata": {
        "colab": {
          "base_uri": "https://localhost:8080/",
          "height": 0
        },
        "id": "MqifqPPY2uq7",
        "outputId": "85174f98-470e-4fb0-ff72-34a849a5209f"
      },
      "execution_count": 6,
      "outputs": [
        {
          "output_type": "stream",
          "name": "stdout",
          "text": [
            "Best Parameters: {'criterion': 'entropy', 'max_depth': 5, 'min_samples_leaf': 2, 'min_samples_split': 2}\n",
            "Accuracy: 0.83\n",
            "Precision: 0.62\n",
            "Recall: 0.80\n",
            "F1 Score: 0.70\n",
            "ROC-AUC Score: 0.77\n"
          ]
        }
      ]
    }
  ]
}