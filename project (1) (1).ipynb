{
  "nbformat": 4,
  "nbformat_minor": 0,
  "metadata": {
    "colab": {
      "provenance": []
    },
    "kernelspec": {
      "name": "python3",
      "display_name": "Python 3"
    },
    "language_info": {
      "name": "python"
    }
  },
  "cells": [
    {
      "cell_type": "code",
      "execution_count": 1,
      "metadata": {
        "colab": {
          "base_uri": "https://localhost:8080/",
          "height": 0
        },
        "id": "Vm0irBaxRMxa",
        "outputId": "ef62fcb2-08c6-4284-9bc3-b97453263a77"
      },
      "outputs": [
        {
          "output_type": "stream",
          "name": "stdout",
          "text": [
            "   months_as_customer  age  policy_number policy_bind_date policy_state  \\\n",
            "0                 328   48         521585       2014-10-17           OH   \n",
            "1                 228   42         342868       2006-06-27           IN   \n",
            "2                 134   29         687698       2000-09-06           OH   \n",
            "3                 256   41         227811       1990-05-25           IL   \n",
            "4                 228   44         367455       2014-06-06           IL   \n",
            "\n",
            "  policy_csl  policy_deductable  policy_annual_premium  umbrella_limit  \\\n",
            "0    250/500               1000                1406.91               0   \n",
            "1    250/500               2000                1197.22         5000000   \n",
            "2    100/300               2000                1413.14         5000000   \n",
            "3    250/500               2000                1415.74         6000000   \n",
            "4   500/1000               1000                1583.91         6000000   \n",
            "\n",
            "   insured_zip  ... witnesses police_report_available total_claim_amount  \\\n",
            "0       466132  ...         2                     YES              71610   \n",
            "1       468176  ...         0                       ?               5070   \n",
            "2       430632  ...         3                      NO              34650   \n",
            "3       608117  ...         2                      NO              63400   \n",
            "4       610706  ...         1                      NO               6500   \n",
            "\n",
            "  injury_claim property_claim  vehicle_claim  auto_make auto_model auto_year  \\\n",
            "0         6510          13020          52080       Saab        92x      2004   \n",
            "1          780            780           3510   Mercedes       E400      2007   \n",
            "2         7700           3850          23100      Dodge        RAM      2007   \n",
            "3         6340           6340          50720  Chevrolet      Tahoe      2014   \n",
            "4         1300            650           4550     Accura        RSX      2009   \n",
            "\n",
            "  fraud_reported  \n",
            "0              Y  \n",
            "1              Y  \n",
            "2              N  \n",
            "3              Y  \n",
            "4              N  \n",
            "\n",
            "[5 rows x 39 columns]\n"
          ]
        }
      ],
      "source": [
        "import pandas as pd\n",
        "\n",
        "# Load dataset\n",
        "file_path = \"/content/insurance_claims.csv\"\n",
        "df = pd.read_csv(file_path)\n",
        "\n",
        "# Display the first few rows\n",
        "print(df.head())\n"
      ]
    },
    {
      "cell_type": "code",
      "source": [
        "import numpy as np\n",
        "\n",
        "# Replace '?' with NaN\n",
        "df.replace('?', np.nan, inplace=True)\n",
        "\n",
        "# Check for missing values\n",
        "print(df.isnull().sum())\n"
      ],
      "metadata": {
        "colab": {
          "base_uri": "https://localhost:8080/",
          "height": 0
        },
        "id": "Egbz4NTUS_r_",
        "outputId": "0229b06c-8b39-49d2-88a9-d045deb60df3"
      },
      "execution_count": 2,
      "outputs": [
        {
          "output_type": "stream",
          "name": "stdout",
          "text": [
            "months_as_customer               0\n",
            "age                              0\n",
            "policy_number                    0\n",
            "policy_bind_date                 0\n",
            "policy_state                     0\n",
            "policy_csl                       0\n",
            "policy_deductable                0\n",
            "policy_annual_premium            0\n",
            "umbrella_limit                   0\n",
            "insured_zip                      0\n",
            "insured_sex                      0\n",
            "insured_education_level          0\n",
            "insured_occupation               0\n",
            "insured_hobbies                  0\n",
            "insured_relationship             0\n",
            "capital-gains                    0\n",
            "capital-loss                     0\n",
            "incident_date                    0\n",
            "incident_type                    0\n",
            "collision_type                 178\n",
            "incident_severity                0\n",
            "authorities_contacted           91\n",
            "incident_state                   0\n",
            "incident_city                    0\n",
            "incident_location                0\n",
            "incident_hour_of_the_day         0\n",
            "number_of_vehicles_involved      0\n",
            "property_damage                360\n",
            "bodily_injuries                  0\n",
            "witnesses                        0\n",
            "police_report_available        343\n",
            "total_claim_amount               0\n",
            "injury_claim                     0\n",
            "property_claim                   0\n",
            "vehicle_claim                    0\n",
            "auto_make                        0\n",
            "auto_model                       0\n",
            "auto_year                        0\n",
            "fraud_reported                   0\n",
            "dtype: int64\n"
          ]
        }
      ]
    },
    {
      "cell_type": "code",
      "source": [
        "# Drop unnecessary columns\n",
        "drop_columns = [\"policy_number\", \"policy_bind_date\", \"insured_zip\", \"incident_location\"]\n",
        "df.drop(columns=drop_columns, inplace=True)\n",
        "\n",
        "# Display the updated dataset columns\n",
        "print(df.columns)\n"
      ],
      "metadata": {
        "colab": {
          "base_uri": "https://localhost:8080/",
          "height": 0
        },
        "id": "ZO0KPpR_TEVj",
        "outputId": "63c7d079-895c-422a-a4c2-8be7d86a51a2"
      },
      "execution_count": 3,
      "outputs": [
        {
          "output_type": "stream",
          "name": "stdout",
          "text": [
            "Index(['months_as_customer', 'age', 'policy_state', 'policy_csl',\n",
            "       'policy_deductable', 'policy_annual_premium', 'umbrella_limit',\n",
            "       'insured_sex', 'insured_education_level', 'insured_occupation',\n",
            "       'insured_hobbies', 'insured_relationship', 'capital-gains',\n",
            "       'capital-loss', 'incident_date', 'incident_type', 'collision_type',\n",
            "       'incident_severity', 'authorities_contacted', 'incident_state',\n",
            "       'incident_city', 'incident_hour_of_the_day',\n",
            "       'number_of_vehicles_involved', 'property_damage', 'bodily_injuries',\n",
            "       'witnesses', 'police_report_available', 'total_claim_amount',\n",
            "       'injury_claim', 'property_claim', 'vehicle_claim', 'auto_make',\n",
            "       'auto_model', 'auto_year', 'fraud_reported'],\n",
            "      dtype='object')\n"
          ]
        }
      ]
    },
    {
      "cell_type": "code",
      "source": [
        "# Convert 'fraud_reported' to binary values\n",
        "df['fraud_reported'] = df['fraud_reported'].map({'Y': 1, 'N': 0})\n",
        "\n",
        "# Verify the transformation\n",
        "print(df['fraud_reported'].value_counts())\n"
      ],
      "metadata": {
        "colab": {
          "base_uri": "https://localhost:8080/",
          "height": 0
        },
        "id": "we-LbRxjTId1",
        "outputId": "7a3bad1f-81f3-4335-d8d8-8703b5b4060d"
      },
      "execution_count": 4,
      "outputs": [
        {
          "output_type": "stream",
          "name": "stdout",
          "text": [
            "fraud_reported\n",
            "0    753\n",
            "1    247\n",
            "Name: count, dtype: int64\n"
          ]
        }
      ]
    },
    {
      "cell_type": "code",
      "source": [
        "# Define categorical columns with missing values\n",
        "categorical_cols_with_nan = ['collision_type', 'property_damage', 'police_report_available']\n",
        "\n",
        "# Fill missing values with 'Unknown'\n",
        "df[categorical_cols_with_nan] = df[categorical_cols_with_nan].fillna('Unknown')\n",
        "\n",
        "# Verify if there are still missing values\n",
        "print(df[categorical_cols_with_nan].isnull().sum())\n"
      ],
      "metadata": {
        "colab": {
          "base_uri": "https://localhost:8080/",
          "height": 0
        },
        "id": "5C5R6pyvTRt5",
        "outputId": "2fa0cc43-f704-401c-df93-f2af4d4346b6"
      },
      "execution_count": 5,
      "outputs": [
        {
          "output_type": "stream",
          "name": "stdout",
          "text": [
            "collision_type             0\n",
            "property_damage            0\n",
            "police_report_available    0\n",
            "dtype: int64\n"
          ]
        }
      ]
    },
    {
      "cell_type": "code",
      "source": [
        "from sklearn.preprocessing import LabelEncoder\n",
        "\n",
        "# Identify categorical columns\n",
        "categorical_cols = df.select_dtypes(include=['object']).columns.tolist()\n",
        "\n",
        "# Apply Label Encoding\n",
        "label_encoder = LabelEncoder()\n",
        "for col in categorical_cols:\n",
        "    df[col] = label_encoder.fit_transform(df[col])\n",
        "\n",
        "# Display the first few rows after encoding\n",
        "print(df.head())\n"
      ],
      "metadata": {
        "colab": {
          "base_uri": "https://localhost:8080/",
          "height": 0
        },
        "id": "9qbjgdZVTamk",
        "outputId": "b404a398-a1ab-441d-90b1-f96b003f23d2"
      },
      "execution_count": 6,
      "outputs": [
        {
          "output_type": "stream",
          "name": "stdout",
          "text": [
            "   months_as_customer  age  policy_state  policy_csl  policy_deductable  \\\n",
            "0                 328   48             2           1               1000   \n",
            "1                 228   42             1           1               2000   \n",
            "2                 134   29             2           0               2000   \n",
            "3                 256   41             0           1               2000   \n",
            "4                 228   44             0           2               1000   \n",
            "\n",
            "   policy_annual_premium  umbrella_limit  insured_sex  \\\n",
            "0                1406.91               0            1   \n",
            "1                1197.22         5000000            1   \n",
            "2                1413.14         5000000            0   \n",
            "3                1415.74         6000000            0   \n",
            "4                1583.91         6000000            1   \n",
            "\n",
            "   insured_education_level  insured_occupation  ...  witnesses  \\\n",
            "0                        4                   2  ...          2   \n",
            "1                        4                   6  ...          0   \n",
            "2                        6                  11  ...          3   \n",
            "3                        6                   1  ...          2   \n",
            "4                        0                  11  ...          1   \n",
            "\n",
            "   police_report_available  total_claim_amount  injury_claim  property_claim  \\\n",
            "0                        2               71610          6510           13020   \n",
            "1                        1                5070           780             780   \n",
            "2                        0               34650          7700            3850   \n",
            "3                        0               63400          6340            6340   \n",
            "4                        0                6500          1300             650   \n",
            "\n",
            "   vehicle_claim  auto_make  auto_model  auto_year  fraud_reported  \n",
            "0          52080         10           1       2004               1  \n",
            "1           3510          8          12       2007               1  \n",
            "2          23100          4          30       2007               0  \n",
            "3          50720          3          34       2014               1  \n",
            "4           4550          0          31       2009               0  \n",
            "\n",
            "[5 rows x 35 columns]\n"
          ]
        }
      ]
    },
    {
      "cell_type": "code",
      "source": [
        "# Define features (X) and target (y)\n",
        "X = df.drop(columns=['fraud_reported'])\n",
        "y = df['fraud_reported']\n",
        "\n",
        "# Display the shapes of X and y\n",
        "print(f\"Features shape: {X.shape}\")\n",
        "print(f\"Target shape: {y.shape}\")\n"
      ],
      "metadata": {
        "colab": {
          "base_uri": "https://localhost:8080/",
          "height": 0
        },
        "id": "nrOALcUPTnZi",
        "outputId": "35719088-8b85-4000-f19b-992a4c6e35d6"
      },
      "execution_count": 7,
      "outputs": [
        {
          "output_type": "stream",
          "name": "stdout",
          "text": [
            "Features shape: (1000, 34)\n",
            "Target shape: (1000,)\n"
          ]
        }
      ]
    },
    {
      "cell_type": "code",
      "source": [
        "from sklearn.model_selection import train_test_split\n",
        "\n",
        "# Split the dataset (80% training, 20% testing)\n",
        "X_train, X_test, y_train, y_test = train_test_split(X, y, test_size=0.2, random_state=42, stratify=y)\n",
        "\n",
        "# Display the shapes of the training and testing sets\n",
        "print(f\"Training set shape: {X_train.shape}, {y_train.shape}\")\n",
        "print(f\"Testing set shape: {X_test.shape}, {y_test.shape}\")\n"
      ],
      "metadata": {
        "colab": {
          "base_uri": "https://localhost:8080/",
          "height": 0
        },
        "id": "LZTSc1pfTvy1",
        "outputId": "63d05268-2bb1-4dea-f7b9-9d71f893889e"
      },
      "execution_count": 8,
      "outputs": [
        {
          "output_type": "stream",
          "name": "stdout",
          "text": [
            "Training set shape: (800, 34), (800,)\n",
            "Testing set shape: (200, 34), (200,)\n"
          ]
        }
      ]
    },
    {
      "cell_type": "code",
      "source": [
        "#RANDOM FOREST"
      ],
      "metadata": {
        "id": "PXcth3jFZ7U7"
      },
      "execution_count": null,
      "outputs": []
    },
    {
      "cell_type": "code",
      "source": [
        "from sklearn.ensemble import RandomForestClassifier\n",
        "\n",
        "# Initialize the Random Forest model\n",
        "rf_model = RandomForestClassifier(n_estimators=100, random_state=42)\n",
        "\n",
        "# Train the model on the training data\n",
        "rf_model.fit(X_train, y_train)\n",
        "\n",
        "# Confirm training is complete\n",
        "print(\"Random Forest model trained successfully!\")\n"
      ],
      "metadata": {
        "colab": {
          "base_uri": "https://localhost:8080/",
          "height": 0
        },
        "id": "2cG5Hb6yT3oQ",
        "outputId": "a83427ad-a196-4385-91c5-f5ce16030856"
      },
      "execution_count": 9,
      "outputs": [
        {
          "output_type": "stream",
          "name": "stdout",
          "text": [
            "Random Forest model trained successfully!\n"
          ]
        }
      ]
    },
    {
      "cell_type": "code",
      "source": [
        "# Make predictions on the test set\n",
        "y_pred = rf_model.predict(X_test)\n",
        "\n",
        "# Get predicted probabilities for ROC curve\n",
        "y_prob = rf_model.predict_proba(X_test)[:, 1]\n",
        "\n",
        "# Display the first few predictions\n",
        "print(\"Sample Predictions:\", y_pred[:10])\n"
      ],
      "metadata": {
        "colab": {
          "base_uri": "https://localhost:8080/",
          "height": 0
        },
        "id": "3F3kykTjUFMD",
        "outputId": "88062a1d-1653-4d36-b4f8-f7e67effa548"
      },
      "execution_count": 10,
      "outputs": [
        {
          "output_type": "stream",
          "name": "stdout",
          "text": [
            "Sample Predictions: [0 0 0 0 0 0 0 0 0 0]\n"
          ]
        }
      ]
    },
    {
      "cell_type": "code",
      "source": [
        "from sklearn.metrics import accuracy_score, precision_score, recall_score, f1_score, confusion_matrix\n",
        "\n",
        "# Compute evaluation metrics\n",
        "accuracy = accuracy_score(y_test, y_pred)\n",
        "precision = precision_score(y_test, y_pred)\n",
        "recall = recall_score(y_test, y_pred)\n",
        "f1 = f1_score(y_test, y_pred)\n",
        "conf_matrix = confusion_matrix(y_test, y_pred)\n",
        "\n",
        "# Print the results\n",
        "print(f\"Accuracy: {accuracy:.2f}\")\n",
        "print(f\"Precision: {precision:.2f}\")\n",
        "print(f\"Recall: {recall:.2f}\")\n",
        "print(f\"F1-score: {f1:.2f}\")\n",
        "print(f\"Confusion Matrix:\\n{conf_matrix}\")\n"
      ],
      "metadata": {
        "colab": {
          "base_uri": "https://localhost:8080/",
          "height": 0
        },
        "id": "iEDo-Z_eUJS2",
        "outputId": "1f8ef547-81be-4b73-db13-95ab6e26f8de"
      },
      "execution_count": 11,
      "outputs": [
        {
          "output_type": "stream",
          "name": "stdout",
          "text": [
            "Accuracy: 0.78\n",
            "Precision: 0.58\n",
            "Recall: 0.29\n",
            "F1-score: 0.38\n",
            "Confusion Matrix:\n",
            "[[141  10]\n",
            " [ 35  14]]\n"
          ]
        }
      ]
    },
    {
      "cell_type": "code",
      "source": [
        "import matplotlib.pyplot as plt\n",
        "from sklearn.metrics import roc_curve, auc\n",
        "\n",
        "# Compute ROC curve\n",
        "fpr, tpr, _ = roc_curve(y_test, y_prob)\n",
        "roc_auc = auc(fpr, tpr)\n",
        "\n",
        "# Plot ROC curve\n",
        "plt.figure(figsize=(8, 6))\n",
        "plt.plot(fpr, tpr, color='blue', label=f'ROC curve (AUC = {roc_auc:.2f})')\n",
        "plt.plot([0, 1], [0, 1], color='gray', linestyle='--')  # Diagonal line\n",
        "plt.xlabel('False Positive Rate')\n",
        "plt.ylabel('True Positive Rate')\n",
        "plt.title('Receiver Operating Characteristic (ROC) Curve')\n",
        "plt.legend()\n",
        "plt.show()\n"
      ],
      "metadata": {
        "colab": {
          "base_uri": "https://localhost:8080/",
          "height": 564
        },
        "id": "Pul9jliVUdGo",
        "outputId": "78a27a95-040e-423b-ff8c-f09cbc4fa95d"
      },
      "execution_count": 12,
      "outputs": [
        {
          "output_type": "display_data",
          "data": {
            "text/plain": [
              "<Figure size 800x600 with 1 Axes>"
            ],
            "image/png": "[encoded data removed]"
          },
          "metadata": {}
        }
      ]
    },
    {
      "cell_type": "code",
      "source": [
        "#  SVM"
      ],
      "metadata": {
        "id": "OHDKOOqfaCEQ"
      },
      "execution_count": null,
      "outputs": []
    },
    {
      "cell_type": "code",
      "source": [
        "from sklearn.svm import SVC\n",
        "from sklearn.metrics import accuracy_score, precision_score, recall_score, f1_score, confusion_matrix, roc_curve, auc\n",
        "import matplotlib.pyplot as plt\n"
      ],
      "metadata": {
        "id": "st4HOWTvYDVG"
      },
      "execution_count": 13,
      "outputs": []
    },
    {
      "cell_type": "code",
      "source": [
        "from sklearn.svm import SVC\n",
        "\n",
        "# Initialize the SVM model\n",
        "svm_model = SVC(kernel='rbf', probability=True, random_state=42)\n",
        "\n",
        "# Train the model on the training data\n",
        "svm_model.fit(X_train, y_train)\n",
        "\n",
        "# Confirm training is complete\n",
        "print(\"SVM model trained successfully!\")\n"
      ],
      "metadata": {
        "colab": {
          "base_uri": "https://localhost:8080/"
        },
        "id": "kc7TmypyYFEp",
        "outputId": "e34fe9cf-bbee-4436-a7fa-ed358931bbae"
      },
      "execution_count": 14,
      "outputs": [
        {
          "output_type": "stream",
          "name": "stdout",
          "text": [
            "SVM model trained successfully!\n"
          ]
        }
      ]
    },
    {
      "cell_type": "code",
      "source": [
        "# Make predictions on the test set\n",
        "y_pred = svm_model.predict(X_test)\n",
        "\n",
        "# Get predicted probabilities for ROC curve\n",
        "y_prob = svm_model.predict_proba(X_test)[:, 1]\n",
        "\n",
        "# Display the first few predictions\n",
        "print(\"Sample Predictions:\", y_pred[:10])\n"
      ],
      "metadata": {
        "colab": {
          "base_uri": "https://localhost:8080/"
        },
        "id": "U7BU1DI8YKVR",
        "outputId": "340b1874-5f7d-4a82-8fba-97c6b45038ab"
      },
      "execution_count": 15,
      "outputs": [
        {
          "output_type": "stream",
          "name": "stdout",
          "text": [
            "Sample Predictions: [0 0 0 0 0 0 0 0 0 0]\n"
          ]
        }
      ]
    },
    {
      "cell_type": "code",
      "source": [
        "from sklearn.metrics import accuracy_score, precision_score, recall_score, f1_score, confusion_matrix\n",
        "\n",
        "# Compute evaluation metrics\n",
        "accuracy = accuracy_score(y_test, y_pred)\n",
        "precision = precision_score(y_test, y_pred)\n",
        "recall = recall_score(y_test, y_pred)\n",
        "f1 = f1_score(y_test, y_pred)\n",
        "conf_matrix = confusion_matrix(y_test, y_pred)\n",
        "\n",
        "# Print the results\n",
        "print(f\"Accuracy: {accuracy:.2f}\")\n",
        "print(f\"Precision: {precision:.2f}\")\n",
        "print(f\"Recall: {recall:.2f}\")\n",
        "print(f\"F1-score: {f1:.2f}\")\n",
        "print(f\"Confusion Matrix:\\n{conf_matrix}\")\n"
      ],
      "metadata": {
        "colab": {
          "base_uri": "https://localhost:8080/"
        },
        "id": "aCl6Bv2DYQma",
        "outputId": "ca7e9c6f-0cec-406e-c23b-0be39e5376d6"
      },
      "execution_count": 18,
      "outputs": [
        {
          "output_type": "stream",
          "name": "stdout",
          "text": [
            "Accuracy: 0.76\n",
            "Precision: 0.00\n",
            "Recall: 0.00\n",
            "F1-score: 0.00\n",
            "Confusion Matrix:\n",
            "[[151   0]\n",
            " [ 49   0]]\n"
          ]
        },
        {
          "output_type": "stream",
          "name": "stderr",
          "text": [
            "/usr/local/lib/python3.11/dist-packages/sklearn/metrics/_classification.py:1565: UndefinedMetricWarning: Precision is ill-defined and being set to 0.0 due to no predicted samples. Use `zero_division` parameter to control this behavior.\n",
            "  _warn_prf(average, modifier, f\"{metric.capitalize()} is\", len(result))\n"
          ]
        }
      ]
    },
    {
      "cell_type": "code",
      "source": [
        "import matplotlib.pyplot as plt\n",
        "from sklearn.metrics import roc_curve, auc\n",
        "\n",
        "# Compute ROC curve\n",
        "fpr, tpr, _ = roc_curve(y_test, y_prob)\n",
        "roc_auc = auc(fpr, tpr)\n",
        "\n",
        "# Plot ROC curve\n",
        "plt.figure(figsize=(8, 6))\n",
        "plt.plot(fpr, tpr, color='blue', label=f'ROC curve (AUC = {roc_auc:.2f})')\n",
        "plt.plot([0, 1], [0, 1], color='gray', linestyle='--')  # Diagonal line\n",
        "plt.xlabel('False Positive Rate')\n",
        "plt.ylabel('True Positive Rate')\n",
        "plt.title('Receiver Operating Characteristic (ROC) Curve')\n",
        "plt.legend()\n",
        "plt.show()\n"
      ],
      "metadata": {
        "colab": {
          "base_uri": "https://localhost:8080/",
          "height": 564
        },
        "id": "0Cv_jZTAYVV6",
        "outputId": "6d72b2cd-aa5d-46bc-db7b-178ff52cf16b"
      },
      "execution_count": 17,
      "outputs": [
        {
          "output_type": "display_data",
          "data": {
            "text/plain": [
              "<Figure size 800x600 with 1 Axes>"
            ],
            "image/png": "[encoded data removed]"
          },
          "metadata": {}
        }
      ]
    },
    {
      "cell_type": "code",
      "source": [
        "# LOGISTIC REGRESSION"
      ],
      "metadata": {
        "id": "XjvA1_nbaGAD"
      },
      "execution_count": null,
      "outputs": []
    },
    {
      "cell_type": "code",
      "source": [
        "from sklearn.linear_model import LogisticRegression\n",
        "from sklearn.metrics import accuracy_score, precision_score, recall_score, f1_score, confusion_matrix, roc_curve, auc\n",
        "import matplotlib.pyplot as plt\n"
      ],
      "metadata": {
        "id": "R_Xg51ndY1c0"
      },
      "execution_count": 19,
      "outputs": []
    },
    {
      "cell_type": "code",
      "source": [
        "# Initialize the Logistic Regression model\n",
        "log_reg_model = LogisticRegression(max_iter=1000, random_state=42)\n",
        "\n",
        "# Train the model on the training data\n",
        "log_reg_model.fit(X_train, y_train)\n",
        "\n",
        "# Confirm training is complete\n",
        "print(\"Logistic Regression model trained successfully!\")\n"
      ],
      "metadata": {
        "colab": {
          "base_uri": "https://localhost:8080/"
        },
        "id": "Cam7aMu4ZBGX",
        "outputId": "c047eae0-f91b-418d-9ce4-5c91e0c3e7ca"
      },
      "execution_count": 20,
      "outputs": [
        {
          "output_type": "stream",
          "name": "stdout",
          "text": [
            "Logistic Regression model trained successfully!\n"
          ]
        },
        {
          "output_type": "stream",
          "name": "stderr",
          "text": [
            "/usr/local/lib/python3.11/dist-packages/sklearn/linear_model/_logistic.py:465: ConvergenceWarning: lbfgs failed to converge (status=1):\n",
            "STOP: TOTAL NO. of ITERATIONS REACHED LIMIT.\n",
            "\n",
            "Increase the number of iterations (max_iter) or scale the data as shown in:\n",
            "    https://scikit-learn.org/stable/modules/preprocessing.html\n",
            "Please also refer to the documentation for alternative solver options:\n",
            "    https://scikit-learn.org/stable/modules/linear_model.html#logistic-regression\n",
            "  n_iter_i = _check_optimize_result(\n"
          ]
        }
      ]
    },
    {
      "cell_type": "code",
      "source": [
        "# Make predictions on the test set\n",
        "y_pred = log_reg_model.predict(X_test)\n",
        "\n",
        "# Get predicted probabilities for ROC curve\n",
        "y_prob = log_reg_model.predict_proba(X_test)[:, 1]\n",
        "\n",
        "# Display the first few predictions\n",
        "print(\"Sample Predictions:\", y_pred[:10])\n"
      ],
      "metadata": {
        "colab": {
          "base_uri": "https://localhost:8080/"
        },
        "id": "aFZWSyPeZQRN",
        "outputId": "ceb2acba-d7ac-44da-9c71-81d31cf86216"
      },
      "execution_count": 21,
      "outputs": [
        {
          "output_type": "stream",
          "name": "stdout",
          "text": [
            "Sample Predictions: [0 0 0 0 0 0 0 0 0 0]\n"
          ]
        }
      ]
    },
    {
      "cell_type": "code",
      "source": [
        "from sklearn.metrics import accuracy_score, precision_score, recall_score, f1_score, confusion_matrix\n",
        "\n",
        "# Compute evaluation metrics\n",
        "accuracy = accuracy_score(y_test, y_pred)\n",
        "precision = precision_score(y_test, y_pred)\n",
        "recall = recall_score(y_test, y_pred)\n",
        "f1 = f1_score(y_test, y_pred)\n",
        "conf_matrix = confusion_matrix(y_test, y_pred)\n",
        "\n",
        "# Print the results\n",
        "print(f\"Accuracy: {accuracy:.2f}\")\n",
        "print(f\"Precision: {precision:.2f}\")\n",
        "print(f\"Recall: {recall:.2f}\")\n",
        "print(f\"F1-score: {f1:.2f}\")\n",
        "print(f\"Confusion Matrix:\\n{conf_matrix}\")\n"
      ],
      "metadata": {
        "colab": {
          "base_uri": "https://localhost:8080/"
        },
        "id": "5zoVLfM6ZeJb",
        "outputId": "fde2bc9d-aeac-4374-c6ea-354405347db9"
      },
      "execution_count": 22,
      "outputs": [
        {
          "output_type": "stream",
          "name": "stdout",
          "text": [
            "Accuracy: 0.75\n",
            "Precision: 0.00\n",
            "Recall: 0.00\n",
            "F1-score: 0.00\n",
            "Confusion Matrix:\n",
            "[[150   1]\n",
            " [ 49   0]]\n"
          ]
        }
      ]
    },
    {
      "cell_type": "code",
      "source": [
        "import matplotlib.pyplot as plt\n",
        "from sklearn.metrics import roc_curve, auc\n",
        "\n",
        "# Compute ROC curve\n",
        "fpr, tpr, _ = roc_curve(y_test, y_prob)\n",
        "roc_auc = auc(fpr, tpr)\n",
        "\n",
        "# Plot ROC curve\n",
        "plt.figure(figsize=(8, 6))\n",
        "plt.plot(fpr, tpr, color='blue', label=f'ROC curve (AUC = {roc_auc:.2f})')\n",
        "plt.plot([0, 1], [0, 1], color='gray', linestyle='--')  # Diagonal line\n",
        "plt.xlabel('False Positive Rate')\n",
        "plt.ylabel('True Positive Rate')\n",
        "plt.title('Receiver Operating Characteristic (ROC) Curve')\n",
        "plt.legend()\n",
        "plt.show()\n"
      ],
      "metadata": {
        "colab": {
          "base_uri": "https://localhost:8080/",
          "height": 564
        },
        "id": "6AeItImMZolz",
        "outputId": "01fa1b97-44d0-4e5f-ea25-00f46d766487"
      },
      "execution_count": 23,
      "outputs": [
        {
          "output_type": "display_data",
          "data": {
            "text/plain": [
              "<Figure size 800x600 with 1 Axes>"
            ],
            "image/png": "[encoded data removed]"
          },
          "metadata": {}
        }
      ]
    }
  ]
}